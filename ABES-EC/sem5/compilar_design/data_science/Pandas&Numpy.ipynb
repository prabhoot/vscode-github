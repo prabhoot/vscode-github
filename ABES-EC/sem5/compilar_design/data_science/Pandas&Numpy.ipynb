{
 "cells": [
  {
   "cell_type": "markdown",
   "metadata": {
    "ExecuteTime": {
     "end_time": "2020-11-04T04:21:14.435716Z",
     "start_time": "2020-11-04T04:21:14.427737Z"
    }
   },
   "source": [
    "# Virat Kohli : Batting Analysis (2008-2018):\n",
    "**Virat Kohli** is an Indian cricketer. He was born in Delhi, India on November 5, 1988. Virat is the first player in ICC cricket history to win all 3 ICC awards in a single year- ICC ODI player of the year, ICC Test player of the year and ICC Player of the year award in 2018.\n",
    "\n",
    "<img src=\"https://images.thequint.com/thequint%2F2018-01%2F5d369107-8477-4216-a39d-ad806e1d3a0c%2FVirat-century.jpg?rect=0%2C0%2C4650%2C2616&auto=format%2Ccompress&fmt=webp&w=700&dpr=1.0.jpg\" width=\"500\" height=\"500\" />\n",
    "\n",
    "**Born**: November 5, 1988, Delhi, India\n",
    "\n",
    "**Team**: India national cricket team\n",
    "\n",
    "**Sport**: Cricket\n",
    "\n",
    "**Nationality**: India"
   ]
  },
  {
   "cell_type": "markdown",
   "metadata": {},
   "source": [
    "**Data Dictionary**\n",
    "1. RunsScored : Number of Runs scored by Kohli in the match.\n",
    "2. BallsFaced : Number of Balls Faces by Kohli in the match.\n",
    "3. BattingPosition : Batting position is Virat Kohli's position on the batting order.\n",
    "4. Dismissal : How Kohli got out in the match or not out. Caught, NO: Not Out, Bowled, Run out, LBW, Stumped, Hit wicket.\n",
    "5. Inning : An innings is one of the divisions of a match during which one team takes its turn to bat. Two 1st inning or 2nd inning.\n",
    "6. Opposition : Name of the Opposition team.\n",
    "7. Year : Year in which the match was played."
   ]
  },
  {
   "cell_type": "code",
   "execution_count": 6,
   "metadata": {
    "ExecuteTime": {
     "end_time": "2020-11-26T11:44:50.700940Z",
     "start_time": "2020-11-26T11:44:50.678905Z"
    }
   },
   "outputs": [],
   "source": [
    "import numpy as np\n",
    "import pandas as pd\n",
    "import matplotlib.pyplot as plt\n",
    "%matplotlib inline\n",
    "import seaborn as sns \n",
    "from warnings import filterwarnings\n",
    "filterwarnings(\"ignore\")"
   ]
  },
  {
   "cell_type": "code",
   "execution_count": 7,
   "metadata": {
    "ExecuteTime": {
     "end_time": "2020-11-26T11:44:51.815869Z",
     "start_time": "2020-11-26T11:44:51.766831Z"
    }
   },
   "outputs": [],
   "source": [
    "# Read Bastman details file\n",
    "mydata = pd.read_csv('Batsman.csv')"
   ]
  },
  {
   "cell_type": "code",
   "execution_count": 11,
   "metadata": {
    "ExecuteTime": {
     "end_time": "2020-11-26T11:44:52.457768Z",
     "start_time": "2020-11-26T11:44:52.428878Z"
    },
    "scrolled": false
   },
   "outputs": [
    {
     "data": {
      "text/html": [
       "<div>\n",
       "<style scoped>\n",
       "    .dataframe tbody tr th:only-of-type {\n",
       "        vertical-align: middle;\n",
       "    }\n",
       "\n",
       "    .dataframe tbody tr th {\n",
       "        vertical-align: top;\n",
       "    }\n",
       "\n",
       "    .dataframe thead th {\n",
       "        text-align: right;\n",
       "    }\n",
       "</style>\n",
       "<table border=\"1\" class=\"dataframe\">\n",
       "  <thead>\n",
       "    <tr style=\"text-align: right;\">\n",
       "      <th></th>\n",
       "      <th>RunsScored</th>\n",
       "      <th>BallsFaced</th>\n",
       "      <th>BattingPosition</th>\n",
       "      <th>Dismissal</th>\n",
       "      <th>Inning</th>\n",
       "      <th>Opposition</th>\n",
       "      <th>Year</th>\n",
       "    </tr>\n",
       "  </thead>\n",
       "  <tbody>\n",
       "    <tr>\n",
       "      <th>0</th>\n",
       "      <td>12</td>\n",
       "      <td>22</td>\n",
       "      <td>2</td>\n",
       "      <td>LBW</td>\n",
       "      <td>1</td>\n",
       "      <td>Sri Lanka</td>\n",
       "      <td>2008</td>\n",
       "    </tr>\n",
       "    <tr>\n",
       "      <th>1</th>\n",
       "      <td>37</td>\n",
       "      <td>67</td>\n",
       "      <td>2</td>\n",
       "      <td>Caught</td>\n",
       "      <td>2</td>\n",
       "      <td>Sri Lanka</td>\n",
       "      <td>2008</td>\n",
       "    </tr>\n",
       "    <tr>\n",
       "      <th>2</th>\n",
       "      <td>25</td>\n",
       "      <td>38</td>\n",
       "      <td>1</td>\n",
       "      <td>Run out</td>\n",
       "      <td>1</td>\n",
       "      <td>Sri Lanka</td>\n",
       "      <td>2008</td>\n",
       "    </tr>\n",
       "    <tr>\n",
       "      <th>3</th>\n",
       "      <td>54</td>\n",
       "      <td>66</td>\n",
       "      <td>1</td>\n",
       "      <td>Bowled</td>\n",
       "      <td>1</td>\n",
       "      <td>Sri Lanka</td>\n",
       "      <td>2008</td>\n",
       "    </tr>\n",
       "    <tr>\n",
       "      <th>4</th>\n",
       "      <td>31</td>\n",
       "      <td>46</td>\n",
       "      <td>1</td>\n",
       "      <td>LBW</td>\n",
       "      <td>2</td>\n",
       "      <td>Sri Lanka</td>\n",
       "      <td>2008</td>\n",
       "    </tr>\n",
       "    <tr>\n",
       "      <th>5</th>\n",
       "      <td>2</td>\n",
       "      <td>2</td>\n",
       "      <td>7</td>\n",
       "      <td>NO</td>\n",
       "      <td>1</td>\n",
       "      <td>Sri Lanka</td>\n",
       "      <td>2009</td>\n",
       "    </tr>\n",
       "    <tr>\n",
       "      <th>6</th>\n",
       "      <td>16</td>\n",
       "      <td>24</td>\n",
       "      <td>4</td>\n",
       "      <td>Caught</td>\n",
       "      <td>2</td>\n",
       "      <td>Pakistan</td>\n",
       "      <td>2009</td>\n",
       "    </tr>\n",
       "    <tr>\n",
       "      <th>7</th>\n",
       "      <td>79</td>\n",
       "      <td>104</td>\n",
       "      <td>4</td>\n",
       "      <td>NO</td>\n",
       "      <td>2</td>\n",
       "      <td>West Indies</td>\n",
       "      <td>2009</td>\n",
       "    </tr>\n",
       "    <tr>\n",
       "      <th>8</th>\n",
       "      <td>30</td>\n",
       "      <td>41</td>\n",
       "      <td>4</td>\n",
       "      <td>Caught</td>\n",
       "      <td>2</td>\n",
       "      <td>Australia</td>\n",
       "      <td>2009</td>\n",
       "    </tr>\n",
       "    <tr>\n",
       "      <th>9</th>\n",
       "      <td>10</td>\n",
       "      <td>16</td>\n",
       "      <td>3</td>\n",
       "      <td>Caught</td>\n",
       "      <td>2</td>\n",
       "      <td>Australia</td>\n",
       "      <td>2009</td>\n",
       "    </tr>\n",
       "  </tbody>\n",
       "</table>\n",
       "</div>"
      ],
      "text/plain": [
       "   RunsScored  BallsFaced  BattingPosition Dismissal  Inning   Opposition  \\\n",
       "0          12          22                2       LBW       1    Sri Lanka   \n",
       "1          37          67                2    Caught       2    Sri Lanka   \n",
       "2          25          38                1   Run out       1    Sri Lanka   \n",
       "3          54          66                1    Bowled       1    Sri Lanka   \n",
       "4          31          46                1       LBW       2    Sri Lanka   \n",
       "5           2           2                7        NO       1    Sri Lanka   \n",
       "6          16          24                4    Caught       2     Pakistan   \n",
       "7          79         104                4        NO       2  West Indies   \n",
       "8          30          41                4    Caught       2    Australia   \n",
       "9          10          16                3    Caught       2    Australia   \n",
       "\n",
       "   Year  \n",
       "0  2008  \n",
       "1  2008  \n",
       "2  2008  \n",
       "3  2008  \n",
       "4  2008  \n",
       "5  2009  \n",
       "6  2009  \n",
       "7  2009  \n",
       "8  2009  \n",
       "9  2009  "
      ]
     },
     "execution_count": 11,
     "metadata": {},
     "output_type": "execute_result"
    }
   ],
   "source": [
    "# View first 5 rows\n",
    "mydata.head(10)"
   ]
  },
  {
   "cell_type": "code",
   "execution_count": 17,
   "metadata": {},
   "outputs": [
    {
     "data": {
      "text/html": [
       "<div>\n",
       "<style scoped>\n",
       "    .dataframe tbody tr th:only-of-type {\n",
       "        vertical-align: middle;\n",
       "    }\n",
       "\n",
       "    .dataframe tbody tr th {\n",
       "        vertical-align: top;\n",
       "    }\n",
       "\n",
       "    .dataframe thead th {\n",
       "        text-align: right;\n",
       "    }\n",
       "</style>\n",
       "<table border=\"1\" class=\"dataframe\">\n",
       "  <thead>\n",
       "    <tr style=\"text-align: right;\">\n",
       "      <th></th>\n",
       "      <th>RunsScored</th>\n",
       "      <th>BallsFaced</th>\n",
       "      <th>BattingPosition</th>\n",
       "      <th>Dismissal</th>\n",
       "      <th>Inning</th>\n",
       "      <th>Opposition</th>\n",
       "      <th>Year</th>\n",
       "    </tr>\n",
       "  </thead>\n",
       "  <tbody>\n",
       "    <tr>\n",
       "      <th>198</th>\n",
       "      <td>36</td>\n",
       "      <td>54</td>\n",
       "      <td>3</td>\n",
       "      <td>Run out</td>\n",
       "      <td>1</td>\n",
       "      <td>South Africa</td>\n",
       "      <td>2018</td>\n",
       "    </tr>\n",
       "    <tr>\n",
       "      <th>199</th>\n",
       "      <td>129</td>\n",
       "      <td>96</td>\n",
       "      <td>3</td>\n",
       "      <td>NO</td>\n",
       "      <td>2</td>\n",
       "      <td>South Africa</td>\n",
       "      <td>2018</td>\n",
       "    </tr>\n",
       "    <tr>\n",
       "      <th>200</th>\n",
       "      <td>75</td>\n",
       "      <td>82</td>\n",
       "      <td>3</td>\n",
       "      <td>Stumped</td>\n",
       "      <td>2</td>\n",
       "      <td>England</td>\n",
       "      <td>2018</td>\n",
       "    </tr>\n",
       "    <tr>\n",
       "      <th>201</th>\n",
       "      <td>45</td>\n",
       "      <td>56</td>\n",
       "      <td>3</td>\n",
       "      <td>LBW</td>\n",
       "      <td>2</td>\n",
       "      <td>England</td>\n",
       "      <td>2018</td>\n",
       "    </tr>\n",
       "    <tr>\n",
       "      <th>202</th>\n",
       "      <td>71</td>\n",
       "      <td>72</td>\n",
       "      <td>3</td>\n",
       "      <td>Bowled</td>\n",
       "      <td>1</td>\n",
       "      <td>England</td>\n",
       "      <td>2018</td>\n",
       "    </tr>\n",
       "    <tr>\n",
       "      <th>203</th>\n",
       "      <td>140</td>\n",
       "      <td>107</td>\n",
       "      <td>3</td>\n",
       "      <td>Stumped</td>\n",
       "      <td>2</td>\n",
       "      <td>West Indies</td>\n",
       "      <td>2018</td>\n",
       "    </tr>\n",
       "    <tr>\n",
       "      <th>204</th>\n",
       "      <td>157</td>\n",
       "      <td>129</td>\n",
       "      <td>3</td>\n",
       "      <td>NO</td>\n",
       "      <td>1</td>\n",
       "      <td>West Indies</td>\n",
       "      <td>2018</td>\n",
       "    </tr>\n",
       "    <tr>\n",
       "      <th>205</th>\n",
       "      <td>107</td>\n",
       "      <td>119</td>\n",
       "      <td>3</td>\n",
       "      <td>Bowled</td>\n",
       "      <td>2</td>\n",
       "      <td>West Indies</td>\n",
       "      <td>2018</td>\n",
       "    </tr>\n",
       "    <tr>\n",
       "      <th>206</th>\n",
       "      <td>16</td>\n",
       "      <td>17</td>\n",
       "      <td>3</td>\n",
       "      <td>Caught</td>\n",
       "      <td>1</td>\n",
       "      <td>West Indies</td>\n",
       "      <td>2018</td>\n",
       "    </tr>\n",
       "    <tr>\n",
       "      <th>207</th>\n",
       "      <td>33</td>\n",
       "      <td>29</td>\n",
       "      <td>3</td>\n",
       "      <td>NO</td>\n",
       "      <td>2</td>\n",
       "      <td>West Indies</td>\n",
       "      <td>2018</td>\n",
       "    </tr>\n",
       "  </tbody>\n",
       "</table>\n",
       "</div>"
      ],
      "text/plain": [
       "     RunsScored  BallsFaced  BattingPosition Dismissal  Inning    Opposition  \\\n",
       "198          36          54                3   Run out       1  South Africa   \n",
       "199         129          96                3        NO       2  South Africa   \n",
       "200          75          82                3   Stumped       2       England   \n",
       "201          45          56                3       LBW       2       England   \n",
       "202          71          72                3    Bowled       1       England   \n",
       "203         140         107                3   Stumped       2   West Indies   \n",
       "204         157         129                3        NO       1   West Indies   \n",
       "205         107         119                3    Bowled       2   West Indies   \n",
       "206          16          17                3    Caught       1   West Indies   \n",
       "207          33          29                3        NO       2   West Indies   \n",
       "\n",
       "     Year  \n",
       "198  2018  \n",
       "199  2018  \n",
       "200  2018  \n",
       "201  2018  \n",
       "202  2018  \n",
       "203  2018  \n",
       "204  2018  \n",
       "205  2018  \n",
       "206  2018  \n",
       "207  2018  "
      ]
     },
     "execution_count": 17,
     "metadata": {},
     "output_type": "execute_result"
    }
   ],
   "source": [
    "mydata.tail(10)\n"
   ]
  },
  {
   "cell_type": "code",
   "execution_count": 23,
   "metadata": {},
   "outputs": [
    {
     "name": "stdout",
     "output_type": "stream",
     "text": [
      "the number of rows is  208\n",
      "the number of columns is  7\n"
     ]
    }
   ],
   "source": [
    "print(\"the number of rows is \",mydata.shape[0])\n",
    "print(\"the number of columns is \",mydata.shape[1])"
   ]
  },
  {
   "cell_type": "code",
   "execution_count": null,
   "metadata": {},
   "outputs": [],
   "source": [
    "# the data is successfully loaded and it can be observed that this data contains \n",
    "# Virat batting Scores based on Inning, Country (here Oppostion) and year. \n",
    "# It also shows his batting positions along with how many balls he faced."
   ]
  },
  {
   "cell_type": "markdown",
   "metadata": {},
   "source": [
    "Now , Understanding the shape of the dataset is also important"
   ]
  },
  {
   "cell_type": "markdown",
   "metadata": {},
   "source": [
    "Let us now check the dimensions of the dataset by using the shape attribute.\n",
    "\n",
    "The shape attribute will help us to get the number of rows and columns of the dataset.\n",
    "Knowing the dimensions of the dataframe will help us to understand the number of data points we are working with \n",
    "and proves to be beneficial especially when the dataset is a large one (consisting of a large number of rows and columns)."
   ]
  },
  {
   "cell_type": "code",
   "execution_count": null,
   "metadata": {
    "ExecuteTime": {
     "end_time": "2020-11-26T11:44:53.486554Z",
     "start_time": "2020-11-26T11:44:53.481566Z"
    },
    "scrolled": true
   },
   "outputs": [],
   "source": [
    "#Shape of the data\n",
    "mydata.shape"
   ]
  },
  {
   "cell_type": "markdown",
   "metadata": {},
   "source": [
    "Now we are aware of the shape of the dataframe. Let us now have a look at the types of data that we are working with.\n",
    "\n",
    "The ***info()*** function will help us to understand the data types of the columns.\n",
    "\n",
    "**Understanding data types ensures that data is stored in the preferred format and the value of each property is as expected.**"
   ]
  },
  {
   "cell_type": "code",
   "execution_count": 24,
   "metadata": {
    "ExecuteTime": {
     "end_time": "2020-11-26T11:44:52.942988Z",
     "start_time": "2020-11-26T11:44:52.926995Z"
    },
    "scrolled": false
   },
   "outputs": [
    {
     "name": "stdout",
     "output_type": "stream",
     "text": [
      "<class 'pandas.core.frame.DataFrame'>\n",
      "RangeIndex: 208 entries, 0 to 207\n",
      "Data columns (total 7 columns):\n",
      " #   Column           Non-Null Count  Dtype \n",
      "---  ------           --------------  ----- \n",
      " 0   RunsScored       208 non-null    int64 \n",
      " 1   BallsFaced       208 non-null    int64 \n",
      " 2   BattingPosition  208 non-null    int64 \n",
      " 3   Dismissal        208 non-null    object\n",
      " 4   Inning           208 non-null    int64 \n",
      " 5   Opposition       208 non-null    object\n",
      " 6   Year             208 non-null    int64 \n",
      "dtypes: int64(5), object(2)\n",
      "memory usage: 11.5+ KB\n"
     ]
    }
   ],
   "source": [
    "#Checking Info\n",
    "mydata.info()"
   ]
  },
  {
   "cell_type": "code",
   "execution_count": null,
   "metadata": {},
   "outputs": [],
   "source": [
    "# we can see here 5 columns are numeric (RunScored, BallsFaced, BattlingPosition, Inning and Year)\n",
    "# whereas dismissal and Oppsition are categorical type"
   ]
  },
  {
   "cell_type": "code",
   "execution_count": null,
   "metadata": {
    "scrolled": true
   },
   "outputs": [],
   "source": [
    "mydata.info()"
   ]
  },
  {
   "cell_type": "code",
   "execution_count": null,
   "metadata": {},
   "outputs": [],
   "source": [
    "# Now, year is not an integer"
   ]
  },
  {
   "cell_type": "code",
   "execution_count": 35,
   "metadata": {
    "scrolled": true
   },
   "outputs": [
    {
     "data": {
      "text/html": [
       "<div>\n",
       "<style scoped>\n",
       "    .dataframe tbody tr th:only-of-type {\n",
       "        vertical-align: middle;\n",
       "    }\n",
       "\n",
       "    .dataframe tbody tr th {\n",
       "        vertical-align: top;\n",
       "    }\n",
       "\n",
       "    .dataframe thead th {\n",
       "        text-align: right;\n",
       "    }\n",
       "</style>\n",
       "<table border=\"1\" class=\"dataframe\">\n",
       "  <thead>\n",
       "    <tr style=\"text-align: right;\">\n",
       "      <th></th>\n",
       "      <th>RunsScored</th>\n",
       "      <th>BallsFaced</th>\n",
       "      <th>BattingPosition</th>\n",
       "      <th>Dismissal</th>\n",
       "      <th>Inning</th>\n",
       "      <th>Opposition</th>\n",
       "      <th>Year</th>\n",
       "    </tr>\n",
       "  </thead>\n",
       "  <tbody>\n",
       "  </tbody>\n",
       "</table>\n",
       "</div>"
      ],
      "text/plain": [
       "Empty DataFrame\n",
       "Columns: [RunsScored, BallsFaced, BattingPosition, Dismissal, Inning, Opposition, Year]\n",
       "Index: []"
      ]
     },
     "execution_count": 35,
     "metadata": {},
     "output_type": "execute_result"
    }
   ],
   "source": [
    "# Show just column names as a dataframe\n",
    "mydata[:0]"
   ]
  },
  {
   "cell_type": "code",
   "execution_count": 29,
   "metadata": {},
   "outputs": [
    {
     "data": {
      "text/plain": [
       "RunsScored         0\n",
       "BallsFaced         0\n",
       "BattingPosition    0\n",
       "Dismissal          0\n",
       "Inning             0\n",
       "Opposition         0\n",
       "Year               0\n",
       "dtype: int64"
      ]
     },
     "execution_count": 29,
     "metadata": {},
     "output_type": "execute_result"
    }
   ],
   "source": [
    "mydata.isnull().sum()"
   ]
  },
  {
   "cell_type": "code",
   "execution_count": 33,
   "metadata": {},
   "outputs": [
    {
     "data": {
      "text/plain": [
       "Index(['RunsScored', 'BallsFaced', 'BattingPosition', 'Dismissal', 'Inning',\n",
       "       'Opposition', 'Year'],\n",
       "      dtype='object')"
      ]
     },
     "execution_count": 33,
     "metadata": {},
     "output_type": "execute_result"
    }
   ],
   "source": [
    "mydata.columns"
   ]
  },
  {
   "cell_type": "code",
   "execution_count": null,
   "metadata": {},
   "outputs": [],
   "source": [
    "# Now, before attempting the questions, it is important to understand statistical summary of the data. \n",
    "# Getting the statistical summary for the user dataset\n",
    "\n",
    "# The describe() function will help us in finding out the statistical summary.\n",
    "\n",
    "# The statistical summary will give us a overview of the numerical columns of the data and \n",
    "# display various features like the minimum, maximum, mean, standard deviation, etc. of the columns. \n",
    "# This will help us to understand the distribution of the values present in the numerical columns.\n",
    "\n",
    "# What each term represents and how we can make analysis will be taught in next module (Statistical Methods of Decision Making)"
   ]
  },
  {
   "cell_type": "code",
   "execution_count": 37,
   "metadata": {
    "scrolled": true
   },
   "outputs": [
    {
     "data": {
      "text/html": [
       "<div>\n",
       "<style scoped>\n",
       "    .dataframe tbody tr th:only-of-type {\n",
       "        vertical-align: middle;\n",
       "    }\n",
       "\n",
       "    .dataframe tbody tr th {\n",
       "        vertical-align: top;\n",
       "    }\n",
       "\n",
       "    .dataframe thead th {\n",
       "        text-align: right;\n",
       "    }\n",
       "</style>\n",
       "<table border=\"1\" class=\"dataframe\">\n",
       "  <thead>\n",
       "    <tr style=\"text-align: right;\">\n",
       "      <th></th>\n",
       "      <th>count</th>\n",
       "      <th>mean</th>\n",
       "      <th>std</th>\n",
       "      <th>min</th>\n",
       "      <th>25%</th>\n",
       "      <th>50%</th>\n",
       "      <th>75%</th>\n",
       "      <th>max</th>\n",
       "    </tr>\n",
       "  </thead>\n",
       "  <tbody>\n",
       "    <tr>\n",
       "      <th>RunsScored</th>\n",
       "      <td>208.0</td>\n",
       "      <td>49.192308</td>\n",
       "      <td>43.797641</td>\n",
       "      <td>0.0</td>\n",
       "      <td>10.75</td>\n",
       "      <td>35.0</td>\n",
       "      <td>81.25</td>\n",
       "      <td>183.0</td>\n",
       "    </tr>\n",
       "    <tr>\n",
       "      <th>BallsFaced</th>\n",
       "      <td>208.0</td>\n",
       "      <td>52.961538</td>\n",
       "      <td>39.850548</td>\n",
       "      <td>0.0</td>\n",
       "      <td>18.00</td>\n",
       "      <td>46.5</td>\n",
       "      <td>83.25</td>\n",
       "      <td>159.0</td>\n",
       "    </tr>\n",
       "    <tr>\n",
       "      <th>BattingPosition</th>\n",
       "      <td>208.0</td>\n",
       "      <td>3.264423</td>\n",
       "      <td>0.781602</td>\n",
       "      <td>1.0</td>\n",
       "      <td>3.00</td>\n",
       "      <td>3.0</td>\n",
       "      <td>3.00</td>\n",
       "      <td>7.0</td>\n",
       "    </tr>\n",
       "    <tr>\n",
       "      <th>Inning</th>\n",
       "      <td>208.0</td>\n",
       "      <td>1.567308</td>\n",
       "      <td>0.496644</td>\n",
       "      <td>1.0</td>\n",
       "      <td>1.00</td>\n",
       "      <td>2.0</td>\n",
       "      <td>2.00</td>\n",
       "      <td>2.0</td>\n",
       "    </tr>\n",
       "    <tr>\n",
       "      <th>Year</th>\n",
       "      <td>208.0</td>\n",
       "      <td>2013.240385</td>\n",
       "      <td>2.750477</td>\n",
       "      <td>2008.0</td>\n",
       "      <td>2011.00</td>\n",
       "      <td>2013.0</td>\n",
       "      <td>2015.00</td>\n",
       "      <td>2018.0</td>\n",
       "    </tr>\n",
       "  </tbody>\n",
       "</table>\n",
       "</div>"
      ],
      "text/plain": [
       "                 count         mean        std     min      25%     50%  \\\n",
       "RunsScored       208.0    49.192308  43.797641     0.0    10.75    35.0   \n",
       "BallsFaced       208.0    52.961538  39.850548     0.0    18.00    46.5   \n",
       "BattingPosition  208.0     3.264423   0.781602     1.0     3.00     3.0   \n",
       "Inning           208.0     1.567308   0.496644     1.0     1.00     2.0   \n",
       "Year             208.0  2013.240385   2.750477  2008.0  2011.00  2013.0   \n",
       "\n",
       "                     75%     max  \n",
       "RunsScored         81.25   183.0  \n",
       "BallsFaced         83.25   159.0  \n",
       "BattingPosition     3.00     7.0  \n",
       "Inning              2.00     2.0  \n",
       "Year             2015.00  2018.0  "
      ]
     },
     "execution_count": 37,
     "metadata": {},
     "output_type": "execute_result"
    }
   ],
   "source": [
    "mydata.describe().T"
   ]
  },
  {
   "cell_type": "code",
   "execution_count": 41,
   "metadata": {},
   "outputs": [
    {
     "data": {
      "text/html": [
       "<div>\n",
       "<style scoped>\n",
       "    .dataframe tbody tr th:only-of-type {\n",
       "        vertical-align: middle;\n",
       "    }\n",
       "\n",
       "    .dataframe tbody tr th {\n",
       "        vertical-align: top;\n",
       "    }\n",
       "\n",
       "    .dataframe thead th {\n",
       "        text-align: right;\n",
       "    }\n",
       "</style>\n",
       "<table border=\"1\" class=\"dataframe\">\n",
       "  <thead>\n",
       "    <tr style=\"text-align: right;\">\n",
       "      <th></th>\n",
       "      <th>count</th>\n",
       "      <th>unique</th>\n",
       "      <th>top</th>\n",
       "      <th>freq</th>\n",
       "      <th>mean</th>\n",
       "      <th>std</th>\n",
       "      <th>min</th>\n",
       "      <th>25%</th>\n",
       "      <th>50%</th>\n",
       "      <th>75%</th>\n",
       "      <th>max</th>\n",
       "    </tr>\n",
       "  </thead>\n",
       "  <tbody>\n",
       "    <tr>\n",
       "      <th>RunsScored</th>\n",
       "      <td>208.0</td>\n",
       "      <td>NaN</td>\n",
       "      <td>NaN</td>\n",
       "      <td>NaN</td>\n",
       "      <td>49.192308</td>\n",
       "      <td>43.797641</td>\n",
       "      <td>0.0</td>\n",
       "      <td>10.75</td>\n",
       "      <td>35.0</td>\n",
       "      <td>81.25</td>\n",
       "      <td>183.0</td>\n",
       "    </tr>\n",
       "    <tr>\n",
       "      <th>BallsFaced</th>\n",
       "      <td>208.0</td>\n",
       "      <td>NaN</td>\n",
       "      <td>NaN</td>\n",
       "      <td>NaN</td>\n",
       "      <td>52.961538</td>\n",
       "      <td>39.850548</td>\n",
       "      <td>0.0</td>\n",
       "      <td>18.0</td>\n",
       "      <td>46.5</td>\n",
       "      <td>83.25</td>\n",
       "      <td>159.0</td>\n",
       "    </tr>\n",
       "    <tr>\n",
       "      <th>BattingPosition</th>\n",
       "      <td>208.0</td>\n",
       "      <td>NaN</td>\n",
       "      <td>NaN</td>\n",
       "      <td>NaN</td>\n",
       "      <td>3.264423</td>\n",
       "      <td>0.781602</td>\n",
       "      <td>1.0</td>\n",
       "      <td>3.0</td>\n",
       "      <td>3.0</td>\n",
       "      <td>3.0</td>\n",
       "      <td>7.0</td>\n",
       "    </tr>\n",
       "    <tr>\n",
       "      <th>Dismissal</th>\n",
       "      <td>208</td>\n",
       "      <td>7</td>\n",
       "      <td>Caught</td>\n",
       "      <td>121</td>\n",
       "      <td>NaN</td>\n",
       "      <td>NaN</td>\n",
       "      <td>NaN</td>\n",
       "      <td>NaN</td>\n",
       "      <td>NaN</td>\n",
       "      <td>NaN</td>\n",
       "      <td>NaN</td>\n",
       "    </tr>\n",
       "    <tr>\n",
       "      <th>Inning</th>\n",
       "      <td>208.0</td>\n",
       "      <td>NaN</td>\n",
       "      <td>NaN</td>\n",
       "      <td>NaN</td>\n",
       "      <td>1.567308</td>\n",
       "      <td>0.496644</td>\n",
       "      <td>1.0</td>\n",
       "      <td>1.0</td>\n",
       "      <td>2.0</td>\n",
       "      <td>2.0</td>\n",
       "      <td>2.0</td>\n",
       "    </tr>\n",
       "    <tr>\n",
       "      <th>Opposition</th>\n",
       "      <td>208</td>\n",
       "      <td>12</td>\n",
       "      <td>Sri Lanka</td>\n",
       "      <td>45</td>\n",
       "      <td>NaN</td>\n",
       "      <td>NaN</td>\n",
       "      <td>NaN</td>\n",
       "      <td>NaN</td>\n",
       "      <td>NaN</td>\n",
       "      <td>NaN</td>\n",
       "      <td>NaN</td>\n",
       "    </tr>\n",
       "    <tr>\n",
       "      <th>Year</th>\n",
       "      <td>208.0</td>\n",
       "      <td>NaN</td>\n",
       "      <td>NaN</td>\n",
       "      <td>NaN</td>\n",
       "      <td>2013.240385</td>\n",
       "      <td>2.750477</td>\n",
       "      <td>2008.0</td>\n",
       "      <td>2011.0</td>\n",
       "      <td>2013.0</td>\n",
       "      <td>2015.0</td>\n",
       "      <td>2018.0</td>\n",
       "    </tr>\n",
       "  </tbody>\n",
       "</table>\n",
       "</div>"
      ],
      "text/plain": [
       "                 count unique        top freq         mean        std     min  \\\n",
       "RunsScored       208.0    NaN        NaN  NaN    49.192308  43.797641     0.0   \n",
       "BallsFaced       208.0    NaN        NaN  NaN    52.961538  39.850548     0.0   \n",
       "BattingPosition  208.0    NaN        NaN  NaN     3.264423   0.781602     1.0   \n",
       "Dismissal          208      7     Caught  121          NaN        NaN     NaN   \n",
       "Inning           208.0    NaN        NaN  NaN     1.567308   0.496644     1.0   \n",
       "Opposition         208     12  Sri Lanka   45          NaN        NaN     NaN   \n",
       "Year             208.0    NaN        NaN  NaN  2013.240385   2.750477  2008.0   \n",
       "\n",
       "                    25%     50%     75%     max  \n",
       "RunsScored        10.75    35.0   81.25   183.0  \n",
       "BallsFaced         18.0    46.5   83.25   159.0  \n",
       "BattingPosition     3.0     3.0     3.0     7.0  \n",
       "Dismissal           NaN     NaN     NaN     NaN  \n",
       "Inning              1.0     2.0     2.0     2.0  \n",
       "Opposition          NaN     NaN     NaN     NaN  \n",
       "Year             2011.0  2013.0  2015.0  2018.0  "
      ]
     },
     "execution_count": 41,
     "metadata": {},
     "output_type": "execute_result"
    }
   ],
   "source": [
    "mydata.describe(include='all').T"
   ]
  },
  {
   "cell_type": "code",
   "execution_count": 44,
   "metadata": {},
   "outputs": [
    {
     "data": {
      "text/plain": [
       "array(['LBW', 'Caught', 'Run out', 'Bowled', 'NO', 'Stumped',\n",
       "       'Hit wicket'], dtype=object)"
      ]
     },
     "execution_count": 44,
     "metadata": {},
     "output_type": "execute_result"
    }
   ],
   "source": [
    "mydata['Dismissal'].unique()"
   ]
  },
  {
   "cell_type": "code",
   "execution_count": 46,
   "metadata": {},
   "outputs": [],
   "source": [
    "# Here, some basic insights which we can get are that Virat Highest score is 183 and lowest 0.\n",
    "# Virat has played 7 Battling positions\n",
    "# On an average Virat scored 49 from year 2008 to 2018.\n"
   ]
  },
  {
   "cell_type": "code",
   "execution_count": 47,
   "metadata": {},
   "outputs": [
    {
     "data": {
      "text/plain": [
       "Opposition\n",
       "Sri Lanka       45\n",
       "West Indies     32\n",
       "England         29\n",
       "Australia       26\n",
       "South Africa    24\n",
       "New Zealand     19\n",
       "Pakistan        12\n",
       "Bangladesh      11\n",
       "Zimbabwe         6\n",
       "Ireland          2\n",
       "Netherlands      1\n",
       "U.A.E.           1\n",
       "Name: count, dtype: int64"
      ]
     },
     "execution_count": 47,
     "metadata": {},
     "output_type": "execute_result"
    }
   ],
   "source": [
    "mydata['Opposition'].value_counts()"
   ]
  },
  {
   "cell_type": "markdown",
   "metadata": {},
   "source": [
    "## Q 1. Against which opposition Virat has scored maximum Runs. Also, show the average score against each opposition."
   ]
  },
  {
   "cell_type": "code",
   "execution_count": 48,
   "metadata": {
    "scrolled": false
   },
   "outputs": [
    {
     "data": {
      "text/plain": [
       "Opposition\n",
       "Australia       1182\n",
       "Bangladesh       654\n",
       "England         1112\n",
       "Ireland           78\n",
       "Netherlands       12\n",
       "New Zealand     1154\n",
       "Pakistan         459\n",
       "South Africa    1269\n",
       "Sri Lanka       2186\n",
       "U.A.E.            33\n",
       "West Indies     1840\n",
       "Zimbabwe         253\n",
       "Name: RunsScored, dtype: int64"
      ]
     },
     "execution_count": 48,
     "metadata": {},
     "output_type": "execute_result"
    }
   ],
   "source": [
    "mydata.groupby(['Opposition'])['RunsScored'].sum().sort_values(ascending=False)"
   ]
  },
  {
   "cell_type": "code",
   "execution_count": null,
   "metadata": {},
   "outputs": [],
   "source": [
    "# Virat has scored maximum runs while playing with Sri Lanka, however minimum scores when played with Netherlands"
   ]
  },
  {
   "cell_type": "code",
   "execution_count": 50,
   "metadata": {
    "scrolled": false
   },
   "outputs": [
    {
     "data": {
      "text/plain": [
       "Opposition\n",
       "New Zealand     60.736842\n",
       "Bangladesh      59.454545\n",
       "West Indies     57.500000\n",
       "South Africa    52.875000\n",
       "Sri Lanka       48.577778\n",
       "Australia       45.461538\n",
       "Zimbabwe        42.166667\n",
       "Ireland         39.000000\n",
       "England         38.344828\n",
       "Pakistan        38.250000\n",
       "U.A.E.          33.000000\n",
       "Netherlands     12.000000\n",
       "Name: RunsScored, dtype: float64"
      ]
     },
     "execution_count": 50,
     "metadata": {},
     "output_type": "execute_result"
    }
   ],
   "source": [
    "#Average\n",
    "mydata.groupby(['Opposition'])['RunsScored'].mean().sort_values(ascending=False)"
   ]
  },
  {
   "cell_type": "code",
   "execution_count": 49,
   "metadata": {},
   "outputs": [
    {
     "data": {
      "text/plain": [
       "Opposition\n",
       "Bangladesh      66.0\n",
       "New Zealand     64.0\n",
       "West Indies     46.0\n",
       "South Africa    41.0\n",
       "Ireland         39.0\n",
       "Sri Lanka       37.0\n",
       "England         35.0\n",
       "U.A.E.          33.0\n",
       "Australia       29.0\n",
       "Zimbabwe        28.0\n",
       "Pakistan        12.5\n",
       "Netherlands     12.0\n",
       "Name: RunsScored, dtype: float64"
      ]
     },
     "execution_count": 49,
     "metadata": {},
     "output_type": "execute_result"
    }
   ],
   "source": [
    "# median\n",
    "mydata.groupby(['Opposition'])['RunsScored'].median().sort_values(ascending=False)"
   ]
  },
  {
   "cell_type": "markdown",
   "metadata": {},
   "source": [
    "## Q 2. In which year, Virat has scored maximum Runs."
   ]
  },
  {
   "cell_type": "code",
   "execution_count": null,
   "metadata": {},
   "outputs": [],
   "source": [
    "mydata.groupby([\"Year\"])[\"RunsScored\"].sum().sort_values(asscending=False)"
   ]
  },
  {
   "cell_type": "code",
   "execution_count": null,
   "metadata": {},
   "outputs": [],
   "source": [
    "# Virat Scored maximum in year 2017 and Minimum in 2008."
   ]
  },
  {
   "cell_type": "markdown",
   "metadata": {},
   "source": [
    "## Q 3. In which year, Virat has scored maximum Runs with which Opposition?"
   ]
  },
  {
   "cell_type": "code",
   "execution_count": 51,
   "metadata": {
    "scrolled": false
   },
   "outputs": [
    {
     "ename": "ValueError",
     "evalue": "No axis named Year for object type DataFrame",
     "output_type": "error",
     "traceback": [
      "\u001b[0;31m---------------------------------------------------------------------------\u001b[0m",
      "\u001b[0;31mKeyError\u001b[0m                                  Traceback (most recent call last)",
      "\u001b[0;32m~/.local/lib/python3.10/site-packages/pandas/core/generic.py\u001b[0m in \u001b[0;36m?\u001b[0;34m(cls, axis)\u001b[0m\n\u001b[1;32m    552\u001b[0m             \u001b[0;32mreturn\u001b[0m \u001b[0mcls\u001b[0m\u001b[0;34m.\u001b[0m\u001b[0m_AXIS_TO_AXIS_NUMBER\u001b[0m\u001b[0;34m[\u001b[0m\u001b[0maxis\u001b[0m\u001b[0;34m]\u001b[0m\u001b[0;34m\u001b[0m\u001b[0;34m\u001b[0m\u001b[0m\n\u001b[1;32m    553\u001b[0m         \u001b[0;32mexcept\u001b[0m \u001b[0mKeyError\u001b[0m\u001b[0;34m:\u001b[0m\u001b[0;34m\u001b[0m\u001b[0;34m\u001b[0m\u001b[0m\n\u001b[0;32m--> 554\u001b[0;31m             \u001b[0;32mraise\u001b[0m \u001b[0mValueError\u001b[0m\u001b[0;34m(\u001b[0m\u001b[0;34mf\"No axis named {axis} for object type {cls.__name__}\"\u001b[0m\u001b[0;34m)\u001b[0m\u001b[0;34m\u001b[0m\u001b[0;34m\u001b[0m\u001b[0m\n\u001b[0m",
      "\u001b[0;31mKeyError\u001b[0m: 'Year'",
      "\nDuring handling of the above exception, another exception occurred:\n",
      "\u001b[0;31mValueError\u001b[0m                                Traceback (most recent call last)",
      "\u001b[0;32m/tmp/ipykernel_7298/3364176349.py\u001b[0m in \u001b[0;36m?\u001b[0;34m()\u001b[0m\n\u001b[0;32m----> 1\u001b[0;31m \u001b[0mmydata\u001b[0m\u001b[0;34m.\u001b[0m\u001b[0mgroupby\u001b[0m\u001b[0;34m(\u001b[0m\u001b[0;34m[\u001b[0m\u001b[0;34m\"Opposition\"\u001b[0m\u001b[0;34m]\u001b[0m\u001b[0;34m,\u001b[0m\u001b[0;34m\"Year\"\u001b[0m\u001b[0;34m)\u001b[0m\u001b[0;34m[\u001b[0m\u001b[0;34m\"runsScored\"\u001b[0m\u001b[0;34m]\u001b[0m\u001b[0;34m.\u001b[0m\u001b[0mmax\u001b[0m\u001b[0;34m(\u001b[0m\u001b[0;34m)\u001b[0m\u001b[0;34m.\u001b[0m\u001b[0msort_values\u001b[0m\u001b[0;34m(\u001b[0m\u001b[0masseding\u001b[0m\u001b[0;34m=\u001b[0m\u001b[0;32mFalse\u001b[0m\u001b[0;34m)\u001b[0m\u001b[0;34m\u001b[0m\u001b[0;34m\u001b[0m\u001b[0m\n\u001b[0m",
      "\u001b[0;32m~/.local/lib/python3.10/site-packages/pandas/core/frame.py\u001b[0m in \u001b[0;36m?\u001b[0;34m(self, by, axis, level, as_index, sort, group_keys, observed, dropna)\u001b[0m\n\u001b[1;32m   8845\u001b[0m         \u001b[0mobserved\u001b[0m\u001b[0;34m:\u001b[0m \u001b[0mbool\u001b[0m \u001b[0;34m|\u001b[0m \u001b[0mlib\u001b[0m\u001b[0;34m.\u001b[0m\u001b[0mNoDefault\u001b[0m \u001b[0;34m=\u001b[0m \u001b[0mlib\u001b[0m\u001b[0;34m.\u001b[0m\u001b[0mno_default\u001b[0m\u001b[0;34m,\u001b[0m\u001b[0;34m\u001b[0m\u001b[0;34m\u001b[0m\u001b[0m\n\u001b[1;32m   8846\u001b[0m         \u001b[0mdropna\u001b[0m\u001b[0;34m:\u001b[0m \u001b[0mbool\u001b[0m \u001b[0;34m=\u001b[0m \u001b[0;32mTrue\u001b[0m\u001b[0;34m,\u001b[0m\u001b[0;34m\u001b[0m\u001b[0;34m\u001b[0m\u001b[0m\n\u001b[1;32m   8847\u001b[0m     ) -> DataFrameGroupBy:\n\u001b[1;32m   8848\u001b[0m         \u001b[0;32mif\u001b[0m \u001b[0maxis\u001b[0m \u001b[0;32mis\u001b[0m \u001b[0;32mnot\u001b[0m \u001b[0mlib\u001b[0m\u001b[0;34m.\u001b[0m\u001b[0mno_default\u001b[0m\u001b[0;34m:\u001b[0m\u001b[0;34m\u001b[0m\u001b[0;34m\u001b[0m\u001b[0m\n\u001b[0;32m-> 8849\u001b[0;31m             \u001b[0maxis\u001b[0m \u001b[0;34m=\u001b[0m \u001b[0mself\u001b[0m\u001b[0;34m.\u001b[0m\u001b[0m_get_axis_number\u001b[0m\u001b[0;34m(\u001b[0m\u001b[0maxis\u001b[0m\u001b[0;34m)\u001b[0m\u001b[0;34m\u001b[0m\u001b[0;34m\u001b[0m\u001b[0m\n\u001b[0m\u001b[1;32m   8850\u001b[0m             \u001b[0;32mif\u001b[0m \u001b[0maxis\u001b[0m \u001b[0;34m==\u001b[0m \u001b[0;36m1\u001b[0m\u001b[0;34m:\u001b[0m\u001b[0;34m\u001b[0m\u001b[0;34m\u001b[0m\u001b[0m\n\u001b[1;32m   8851\u001b[0m                 warnings.warn(\n\u001b[1;32m   8852\u001b[0m                     \u001b[0;34m\"DataFrame.groupby with axis=1 is deprecated. Do \"\u001b[0m\u001b[0;34m\u001b[0m\u001b[0;34m\u001b[0m\u001b[0m\n",
      "\u001b[0;32m~/.local/lib/python3.10/site-packages/pandas/core/generic.py\u001b[0m in \u001b[0;36m?\u001b[0;34m(cls, axis)\u001b[0m\n\u001b[1;32m    550\u001b[0m     \u001b[0;32mdef\u001b[0m \u001b[0m_get_axis_number\u001b[0m\u001b[0;34m(\u001b[0m\u001b[0mcls\u001b[0m\u001b[0;34m,\u001b[0m \u001b[0maxis\u001b[0m\u001b[0;34m:\u001b[0m \u001b[0mAxis\u001b[0m\u001b[0;34m)\u001b[0m \u001b[0;34m->\u001b[0m \u001b[0mAxisInt\u001b[0m\u001b[0;34m:\u001b[0m\u001b[0;34m\u001b[0m\u001b[0;34m\u001b[0m\u001b[0m\n\u001b[1;32m    551\u001b[0m         \u001b[0;32mtry\u001b[0m\u001b[0;34m:\u001b[0m\u001b[0;34m\u001b[0m\u001b[0;34m\u001b[0m\u001b[0m\n\u001b[1;32m    552\u001b[0m             \u001b[0;32mreturn\u001b[0m \u001b[0mcls\u001b[0m\u001b[0;34m.\u001b[0m\u001b[0m_AXIS_TO_AXIS_NUMBER\u001b[0m\u001b[0;34m[\u001b[0m\u001b[0maxis\u001b[0m\u001b[0;34m]\u001b[0m\u001b[0;34m\u001b[0m\u001b[0;34m\u001b[0m\u001b[0m\n\u001b[1;32m    553\u001b[0m         \u001b[0;32mexcept\u001b[0m \u001b[0mKeyError\u001b[0m\u001b[0;34m:\u001b[0m\u001b[0;34m\u001b[0m\u001b[0;34m\u001b[0m\u001b[0m\n\u001b[0;32m--> 554\u001b[0;31m             \u001b[0;32mraise\u001b[0m \u001b[0mValueError\u001b[0m\u001b[0;34m(\u001b[0m\u001b[0;34mf\"No axis named {axis} for object type {cls.__name__}\"\u001b[0m\u001b[0;34m)\u001b[0m\u001b[0;34m\u001b[0m\u001b[0;34m\u001b[0m\u001b[0m\n\u001b[0m",
      "\u001b[0;31mValueError\u001b[0m: No axis named Year for object type DataFrame"
     ]
    }
   ],
   "source": [
    "mydata.groupby([\"Opposition\"],\"Year\")[\"runsScored\"].max().sort_values(asseding=False)"
   ]
  },
  {
   "cell_type": "markdown",
   "metadata": {},
   "source": [
    "## OR"
   ]
  },
  {
   "cell_type": "code",
   "execution_count": null,
   "metadata": {
    "scrolled": true
   },
   "outputs": [],
   "source": []
  },
  {
   "cell_type": "code",
   "execution_count": null,
   "metadata": {},
   "outputs": [],
   "source": [
    "# Virat scored highest Runs in 2012 against Sri Lanka i.e. 695"
   ]
  },
  {
   "cell_type": "markdown",
   "metadata": {},
   "source": [
    "## Q 4. In how many matches Virat was not out. (Consider Dismissal column here). "
   ]
  },
  {
   "cell_type": "code",
   "execution_count": 63,
   "metadata": {
    "scrolled": true
   },
   "outputs": [
    {
     "data": {
      "text/plain": [
       "37"
      ]
     },
     "execution_count": 63,
     "metadata": {},
     "output_type": "execute_result"
    }
   ],
   "source": [
    "mydata[\"Dismissal\"].value_counts()[1]"
   ]
  },
  {
   "cell_type": "code",
   "execution_count": null,
   "metadata": {},
   "outputs": [],
   "source": []
  },
  {
   "cell_type": "code",
   "execution_count": null,
   "metadata": {},
   "outputs": [],
   "source": [
    "# Virat was not out in 37 matches"
   ]
  },
  {
   "cell_type": "markdown",
   "metadata": {},
   "source": [
    "## Q 5. Find the number of times when kohli scored less than or equal to 7 runs?"
   ]
  },
  {
   "cell_type": "code",
   "execution_count": 65,
   "metadata": {
    "scrolled": true
   },
   "outputs": [
    {
     "data": {
      "text/plain": [
       "40"
      ]
     },
     "execution_count": 65,
     "metadata": {},
     "output_type": "execute_result"
    }
   ],
   "source": [
    "mydata[mydata[\"RunsScored\"]<=7].count()[0]"
   ]
  },
  {
   "cell_type": "markdown",
   "metadata": {},
   "source": [
    "## Q 6. With how many countries Virat has played matches. Consider the country only once. Name them."
   ]
  },
  {
   "cell_type": "code",
   "execution_count": 66,
   "metadata": {
    "scrolled": true
   },
   "outputs": [
    {
     "data": {
      "text/plain": [
       "array(['Sri Lanka', 'Pakistan', 'West Indies', 'Australia', 'Bangladesh',\n",
       "       'South Africa', 'Zimbabwe', 'New Zealand', 'England', 'Ireland',\n",
       "       'Netherlands', 'U.A.E.'], dtype=object)"
      ]
     },
     "execution_count": 66,
     "metadata": {},
     "output_type": "execute_result"
    }
   ],
   "source": [
    "mydata[\"Opposition\"].unique()"
   ]
  },
  {
   "cell_type": "code",
   "execution_count": null,
   "metadata": {
    "scrolled": false
   },
   "outputs": [],
   "source": []
  },
  {
   "cell_type": "markdown",
   "metadata": {},
   "source": [
    "## Q7. Which countries are top competitors of India ? Show top 5.\n",
    "\n"
   ]
  },
  {
   "cell_type": "code",
   "execution_count": 70,
   "metadata": {
    "scrolled": true
   },
   "outputs": [
    {
     "data": {
      "text/plain": [
       "Opposition\n",
       "Netherlands     12\n",
       "U.A.E.          33\n",
       "Ireland         78\n",
       "Zimbabwe       253\n",
       "Pakistan       459\n",
       "Name: RunsScored, dtype: int64"
      ]
     },
     "execution_count": 70,
     "metadata": {},
     "output_type": "execute_result"
    }
   ],
   "source": [
    "mydata.groupby([\"Opposition\"])[\"RunsScored\"].sum().sort_values().head()"
   ]
  },
  {
   "cell_type": "code",
   "execution_count": null,
   "metadata": {},
   "outputs": [],
   "source": [
    "# This question is similar to Q 1."
   ]
  },
  {
   "cell_type": "markdown",
   "metadata": {},
   "source": [
    "## Q 8. Compare the runs scored by Kohli in 1st innings vs the 2nd innings.\n"
   ]
  },
  {
   "cell_type": "code",
   "execution_count": null,
   "metadata": {
    "scrolled": false
   },
   "outputs": [],
   "source": []
  },
  {
   "cell_type": "markdown",
   "metadata": {},
   "source": [
    "## Q 9. Which opposition has Kohli scored most runs against? Find the median score against different oppositions?"
   ]
  },
  {
   "cell_type": "code",
   "execution_count": null,
   "metadata": {
    "scrolled": true
   },
   "outputs": [],
   "source": []
  },
  {
   "cell_type": "markdown",
   "metadata": {},
   "source": [
    "### Another way"
   ]
  },
  {
   "cell_type": "code",
   "execution_count": null,
   "metadata": {
    "ExecuteTime": {
     "end_time": "2020-11-26T11:48:40.439175Z",
     "start_time": "2020-11-26T11:48:40.425796Z"
    }
   },
   "outputs": [],
   "source": []
  },
  {
   "cell_type": "code",
   "execution_count": null,
   "metadata": {
    "ExecuteTime": {
     "end_time": "2020-11-26T11:48:40.695408Z",
     "start_time": "2020-11-26T11:48:40.682022Z"
    }
   },
   "outputs": [],
   "source": []
  },
  {
   "cell_type": "code",
   "execution_count": null,
   "metadata": {
    "ExecuteTime": {
     "end_time": "2020-11-26T11:49:24.681869Z",
     "start_time": "2020-11-26T11:49:24.664856Z"
    }
   },
   "outputs": [],
   "source": []
  },
  {
   "cell_type": "markdown",
   "metadata": {},
   "source": [
    "## Q 10. What do you think how Kohli got out in most number of matches, show complete data about each Dismissal based on Inning? "
   ]
  },
  {
   "cell_type": "code",
   "execution_count": null,
   "metadata": {},
   "outputs": [],
   "source": []
  },
  {
   "cell_type": "markdown",
   "metadata": {},
   "source": [
    "The most number of times Kohli has got out is by getting caught.\n",
    "\n",
    "<img src=\"https://imgk.timesnownews.com/story/Zampa_Kohli.png?tr=w-600,h-450,fo-auto\" width=\"500\" height=\"200\" />\n",
    "\n",
    " Apart from that he seems to stay not out for most of the innings and looks like it is hard to get him out by other ways apart from being caught."
   ]
  },
  {
   "cell_type": "markdown",
   "metadata": {},
   "source": [
    "##  Pre and Post transformation comparison\n",
    "\n",
    "**It is well known that Kohli started taking fitness much more seriously post an ordinary IPL in 2012. He changed his training regime and eating habits completely, realising the need to transform his body to survive the rigours of playing all three formats.**\n",
    "\n",
    "<img src= \"https://encrypted-tbn0.gstatic.com/images?q=tbn%3AANd9GcSskALcVu6o9iI-7Q_rsehBkQ4PpDN6IAjWwA&usqp=CAU\" width=\"500\" height=\"500\" />\n",
    "\n",
    "**Kohli says it was the absence of fear or respect for him in the opposition's eye that has forced him to change his work ethic\n",
    "Kohli revealed how working on his fitness has lifted his game after coming back from the Australian tour in 2012\n",
    "While he considers his idol Tendulkar's skills as a cricketer in a different league, his is a case of pure hard work**"
   ]
  },
  {
   "cell_type": "code",
   "execution_count": null,
   "metadata": {},
   "outputs": [],
   "source": [
    "# let's fetch the data post transform \n",
    "mydata['post_transform'] = mydata[\"Year\"]>2012\n",
    "mydata"
   ]
  },
  {
   "cell_type": "markdown",
   "metadata": {},
   "source": [
    "## Q 11. Compare the runs Scored before and after transformation"
   ]
  },
  {
   "cell_type": "code",
   "execution_count": null,
   "metadata": {
    "scrolled": false
   },
   "outputs": [],
   "source": []
  },
  {
   "cell_type": "code",
   "execution_count": null,
   "metadata": {},
   "outputs": [],
   "source": [
    "# Here, we can see a drastic change in his performance.\n",
    "# We can see clearly see post transformation, he has scored more runs "
   ]
  },
  {
   "cell_type": "markdown",
   "metadata": {},
   "source": [
    "## Q 12. Compare the Balls Faced before and after transformation"
   ]
  },
  {
   "cell_type": "code",
   "execution_count": null,
   "metadata": {
    "scrolled": false
   },
   "outputs": [],
   "source": []
  },
  {
   "cell_type": "markdown",
   "metadata": {},
   "source": [
    "## Q 13. Compare the runs Scored before and after transformation as innings(innings wise)\n"
   ]
  },
  {
   "cell_type": "code",
   "execution_count": null,
   "metadata": {},
   "outputs": [],
   "source": []
  },
  {
   "cell_type": "markdown",
   "metadata": {},
   "source": [
    "**Clearly, Kohli was good at chasing as compared to batting first, prior he went through the transformation. But post transformation, he has significantly improved his run scoring ability batting first.**"
   ]
  },
  {
   "cell_type": "markdown",
   "metadata": {},
   "source": [
    "## Q 14. Compare the dismissal patterns before and after transformation."
   ]
  },
  {
   "cell_type": "code",
   "execution_count": null,
   "metadata": {
    "ExecuteTime": {
     "end_time": "2020-11-26T11:56:20.827383Z",
     "start_time": "2020-11-26T11:56:20.718217Z"
    }
   },
   "outputs": [],
   "source": []
  },
  {
   "cell_type": "markdown",
   "metadata": {},
   "source": [
    "The average score before getting stumped and bowled has drastically improved post transformation. Average runs scored before 'Run Out' has also improved."
   ]
  },
  {
   "cell_type": "markdown",
   "metadata": {},
   "source": [
    "## Q 15. Which batting position has helped Virat score highest Runs.\n"
   ]
  },
  {
   "cell_type": "code",
   "execution_count": null,
   "metadata": {},
   "outputs": [],
   "source": []
  },
  {
   "cell_type": "markdown",
   "metadata": {},
   "source": [
    "## Summary: Virat has been an outstanding perform post his transformation. If we talk about his best batting position it is 3. VK has scored more than 1000 runs till 2018. \n",
    "## We will see these results by visualization in next mentor learning session"
   ]
  },
  {
   "cell_type": "code",
   "execution_count": null,
   "metadata": {},
   "outputs": [],
   "source": []
  }
 ],
 "metadata": {
  "kernelspec": {
   "display_name": "Python 3",
   "language": "python",
   "name": "python3"
  },
  "language_info": {
   "codemirror_mode": {
    "name": "ipython",
    "version": 3
   },
   "file_extension": ".py",
   "mimetype": "text/x-python",
   "name": "python",
   "nbconvert_exporter": "python",
   "pygments_lexer": "ipython3",
   "version": "3.10.12"
  },
  "toc": {
   "base_numbering": 1,
   "nav_menu": {},
   "number_sections": true,
   "sideBar": true,
   "skip_h1_title": false,
   "title_cell": "Table of Contents",
   "title_sidebar": "Contents",
   "toc_cell": false,
   "toc_position": {},
   "toc_section_display": true,
   "toc_window_display": false
  },
  "varInspector": {
   "cols": {
    "lenName": 16,
    "lenType": 16,
    "lenVar": 40
   },
   "kernels_config": {
    "python": {
     "delete_cmd_postfix": "",
     "delete_cmd_prefix": "del ",
     "library": "var_list.py",
     "varRefreshCmd": "print(var_dic_list())"
    },
    "r": {
     "delete_cmd_postfix": ") ",
     "delete_cmd_prefix": "rm(",
     "library": "var_list.r",
     "varRefreshCmd": "cat(var_dic_list()) "
    }
   },
   "types_to_exclude": [
    "module",
    "function",
    "builtin_function_or_method",
    "instance",
    "_Feature"
   ],
   "window_display": false
  }
 },
 "nbformat": 4,
 "nbformat_minor": 2
}
